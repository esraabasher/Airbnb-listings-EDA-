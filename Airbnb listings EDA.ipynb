{
 "cells": [
  {
   "cell_type": "markdown",
   "id": "06c819ab",
   "metadata": {},
   "source": [
    "This project involves performing an exploratory data analysis (EDA) on Airbnb listings data for a particular city. The analysis will focus on factors such as price, availability, location, and property type to identify trends and patterns in the demand for Airbnb listings in the city. The project will include data cleaning, visualization, and statistical analysis using tools such as Python and Jupyter Notebook. Data: http://insideairbnb.com/get-the-data/"
   ]
  },
  {
   "cell_type": "code",
   "execution_count": 69,
   "id": "81f3bfc2",
   "metadata": {},
   "outputs": [],
   "source": [
    "import pandas as pd\n",
    "import matplotlib.pyplot as plt \n",
    "from sklearn.impute import SimpleImputer\n",
    "import seaborn as sns"
   ]
  },
  {
   "cell_type": "markdown",
   "id": "4ab75f10",
   "metadata": {},
   "source": [
    "# read_data"
   ]
  },
  {
   "cell_type": "code",
   "execution_count": 70,
   "id": "59716b60",
   "metadata": {},
   "outputs": [],
   "source": [
    "df=pd.read_csv('dataset/listings.csv')"
   ]
  },
  {
   "cell_type": "code",
   "execution_count": 71,
   "id": "3b0468bb",
   "metadata": {},
   "outputs": [
    {
     "data": {
      "text/html": [
       "<div>\n",
       "<style scoped>\n",
       "    .dataframe tbody tr th:only-of-type {\n",
       "        vertical-align: middle;\n",
       "    }\n",
       "\n",
       "    .dataframe tbody tr th {\n",
       "        vertical-align: top;\n",
       "    }\n",
       "\n",
       "    .dataframe thead th {\n",
       "        text-align: right;\n",
       "    }\n",
       "</style>\n",
       "<table border=\"1\" class=\"dataframe\">\n",
       "  <thead>\n",
       "    <tr style=\"text-align: right;\">\n",
       "      <th></th>\n",
       "      <th>id</th>\n",
       "      <th>name</th>\n",
       "      <th>host_id</th>\n",
       "      <th>host_name</th>\n",
       "      <th>neighbourhood_group</th>\n",
       "      <th>neighbourhood</th>\n",
       "      <th>latitude</th>\n",
       "      <th>longitude</th>\n",
       "      <th>room_type</th>\n",
       "      <th>price</th>\n",
       "      <th>minimum_nights</th>\n",
       "      <th>number_of_reviews</th>\n",
       "      <th>last_review</th>\n",
       "      <th>reviews_per_month</th>\n",
       "      <th>calculated_host_listings_count</th>\n",
       "      <th>availability_365</th>\n",
       "      <th>number_of_reviews_ltm</th>\n",
       "      <th>license</th>\n",
       "    </tr>\n",
       "  </thead>\n",
       "  <tbody>\n",
       "    <tr>\n",
       "      <th>0</th>\n",
       "      <td>2818</td>\n",
       "      <td>Condo in Amsterdam · ★4.89 · 1 bedroom · 2 bed...</td>\n",
       "      <td>3159</td>\n",
       "      <td>Daniel</td>\n",
       "      <td>NaN</td>\n",
       "      <td>Oostelijk Havengebied - Indische Buurt</td>\n",
       "      <td>52.36435</td>\n",
       "      <td>4.94358</td>\n",
       "      <td>Private room</td>\n",
       "      <td>69</td>\n",
       "      <td>3</td>\n",
       "      <td>336</td>\n",
       "      <td>2023-05-31</td>\n",
       "      <td>1.95</td>\n",
       "      <td>1</td>\n",
       "      <td>7</td>\n",
       "      <td>40</td>\n",
       "      <td>NaN</td>\n",
       "    </tr>\n",
       "    <tr>\n",
       "      <th>1</th>\n",
       "      <td>20168</td>\n",
       "      <td>Townhouse in Amsterdam · ★4.44 · 1 bedroom · 1...</td>\n",
       "      <td>59484</td>\n",
       "      <td>Alexander</td>\n",
       "      <td>NaN</td>\n",
       "      <td>Centrum-Oost</td>\n",
       "      <td>52.36407</td>\n",
       "      <td>4.89393</td>\n",
       "      <td>Private room</td>\n",
       "      <td>106</td>\n",
       "      <td>1</td>\n",
       "      <td>339</td>\n",
       "      <td>2020-04-09</td>\n",
       "      <td>2.10</td>\n",
       "      <td>2</td>\n",
       "      <td>0</td>\n",
       "      <td>0</td>\n",
       "      <td>NaN</td>\n",
       "    </tr>\n",
       "    <tr>\n",
       "      <th>2</th>\n",
       "      <td>213371</td>\n",
       "      <td>Rental unit in Amsterdam · ★4.86 · 3 bedrooms ...</td>\n",
       "      <td>1100324</td>\n",
       "      <td>Hendrik</td>\n",
       "      <td>NaN</td>\n",
       "      <td>De Pijp - Rivierenbuurt</td>\n",
       "      <td>52.35150</td>\n",
       "      <td>4.89656</td>\n",
       "      <td>Entire home/apt</td>\n",
       "      <td>270</td>\n",
       "      <td>4</td>\n",
       "      <td>23</td>\n",
       "      <td>2023-01-08</td>\n",
       "      <td>0.16</td>\n",
       "      <td>1</td>\n",
       "      <td>2</td>\n",
       "      <td>1</td>\n",
       "      <td>0363 F88F 4B47 6E9B 225B</td>\n",
       "    </tr>\n",
       "    <tr>\n",
       "      <th>3</th>\n",
       "      <td>155548</td>\n",
       "      <td>Rental unit in Amsterdam · ★4.76 · 1 bedroom ·...</td>\n",
       "      <td>748161</td>\n",
       "      <td>Maria</td>\n",
       "      <td>NaN</td>\n",
       "      <td>Oud-Oost</td>\n",
       "      <td>52.36420</td>\n",
       "      <td>4.92829</td>\n",
       "      <td>Entire home/apt</td>\n",
       "      <td>200</td>\n",
       "      <td>3</td>\n",
       "      <td>21</td>\n",
       "      <td>2019-08-20</td>\n",
       "      <td>0.15</td>\n",
       "      <td>1</td>\n",
       "      <td>0</td>\n",
       "      <td>0</td>\n",
       "      <td>0363 A562 4D7E 4A91 60DF</td>\n",
       "    </tr>\n",
       "    <tr>\n",
       "      <th>4</th>\n",
       "      <td>27886</td>\n",
       "      <td>Houseboat in Amsterdam · ★4.94 · 1 bedroom · 1...</td>\n",
       "      <td>97647</td>\n",
       "      <td>Flip</td>\n",
       "      <td>NaN</td>\n",
       "      <td>Centrum-West</td>\n",
       "      <td>52.38761</td>\n",
       "      <td>4.89188</td>\n",
       "      <td>Private room</td>\n",
       "      <td>137</td>\n",
       "      <td>3</td>\n",
       "      <td>251</td>\n",
       "      <td>2023-05-01</td>\n",
       "      <td>1.81</td>\n",
       "      <td>1</td>\n",
       "      <td>0</td>\n",
       "      <td>20</td>\n",
       "      <td>NaN</td>\n",
       "    </tr>\n",
       "  </tbody>\n",
       "</table>\n",
       "</div>"
      ],
      "text/plain": [
       "       id                                               name  host_id  \\\n",
       "0    2818  Condo in Amsterdam · ★4.89 · 1 bedroom · 2 bed...     3159   \n",
       "1   20168  Townhouse in Amsterdam · ★4.44 · 1 bedroom · 1...    59484   \n",
       "2  213371  Rental unit in Amsterdam · ★4.86 · 3 bedrooms ...  1100324   \n",
       "3  155548  Rental unit in Amsterdam · ★4.76 · 1 bedroom ·...   748161   \n",
       "4   27886  Houseboat in Amsterdam · ★4.94 · 1 bedroom · 1...    97647   \n",
       "\n",
       "   host_name  neighbourhood_group                           neighbourhood  \\\n",
       "0     Daniel                  NaN  Oostelijk Havengebied - Indische Buurt   \n",
       "1  Alexander                  NaN                            Centrum-Oost   \n",
       "2    Hendrik                  NaN                 De Pijp - Rivierenbuurt   \n",
       "3      Maria                  NaN                                Oud-Oost   \n",
       "4       Flip                  NaN                            Centrum-West   \n",
       "\n",
       "   latitude  longitude        room_type  price  minimum_nights  \\\n",
       "0  52.36435    4.94358     Private room     69               3   \n",
       "1  52.36407    4.89393     Private room    106               1   \n",
       "2  52.35150    4.89656  Entire home/apt    270               4   \n",
       "3  52.36420    4.92829  Entire home/apt    200               3   \n",
       "4  52.38761    4.89188     Private room    137               3   \n",
       "\n",
       "   number_of_reviews last_review  reviews_per_month  \\\n",
       "0                336  2023-05-31               1.95   \n",
       "1                339  2020-04-09               2.10   \n",
       "2                 23  2023-01-08               0.16   \n",
       "3                 21  2019-08-20               0.15   \n",
       "4                251  2023-05-01               1.81   \n",
       "\n",
       "   calculated_host_listings_count  availability_365  number_of_reviews_ltm  \\\n",
       "0                               1                 7                     40   \n",
       "1                               2                 0                      0   \n",
       "2                               1                 2                      1   \n",
       "3                               1                 0                      0   \n",
       "4                               1                 0                     20   \n",
       "\n",
       "                    license  \n",
       "0                       NaN  \n",
       "1                       NaN  \n",
       "2  0363 F88F 4B47 6E9B 225B  \n",
       "3  0363 A562 4D7E 4A91 60DF  \n",
       "4                       NaN  "
      ]
     },
     "execution_count": 71,
     "metadata": {},
     "output_type": "execute_result"
    }
   ],
   "source": [
    "df.head()"
   ]
  },
  {
   "cell_type": "markdown",
   "id": "2d1b438b",
   "metadata": {},
   "source": [
    "# Displaying columns data types"
   ]
  },
  {
   "cell_type": "code",
   "execution_count": 72,
   "id": "122900fb",
   "metadata": {},
   "outputs": [
    {
     "data": {
      "text/plain": [
       "id                                  int64\n",
       "name                               object\n",
       "host_id                             int64\n",
       "host_name                          object\n",
       "neighbourhood_group               float64\n",
       "neighbourhood                      object\n",
       "latitude                          float64\n",
       "longitude                         float64\n",
       "room_type                          object\n",
       "price                               int64\n",
       "minimum_nights                      int64\n",
       "number_of_reviews                   int64\n",
       "last_review                        object\n",
       "reviews_per_month                 float64\n",
       "calculated_host_listings_count      int64\n",
       "availability_365                    int64\n",
       "number_of_reviews_ltm               int64\n",
       "license                            object\n",
       "dtype: object"
      ]
     },
     "execution_count": 72,
     "metadata": {},
     "output_type": "execute_result"
    }
   ],
   "source": [
    "df.dtypes"
   ]
  },
  {
   "cell_type": "markdown",
   "id": "9b93941b",
   "metadata": {},
   "source": [
    "# Checking for missing and null values"
   ]
  },
  {
   "cell_type": "code",
   "execution_count": 73,
   "id": "c3a6d06a",
   "metadata": {},
   "outputs": [
    {
     "name": "stdout",
     "output_type": "stream",
     "text": [
      "<class 'pandas.core.frame.DataFrame'>\n",
      "RangeIndex: 7608 entries, 0 to 7607\n",
      "Data columns (total 18 columns):\n",
      "id                                7608 non-null int64\n",
      "name                              7608 non-null object\n",
      "host_id                           7608 non-null int64\n",
      "host_name                         7608 non-null object\n",
      "neighbourhood_group               0 non-null float64\n",
      "neighbourhood                     7608 non-null object\n",
      "latitude                          7608 non-null float64\n",
      "longitude                         7608 non-null float64\n",
      "room_type                         7608 non-null object\n",
      "price                             7608 non-null int64\n",
      "minimum_nights                    7608 non-null int64\n",
      "number_of_reviews                 7608 non-null int64\n",
      "last_review                       6898 non-null object\n",
      "reviews_per_month                 6898 non-null float64\n",
      "calculated_host_listings_count    7608 non-null int64\n",
      "availability_365                  7608 non-null int64\n",
      "number_of_reviews_ltm             7608 non-null int64\n",
      "license                           6474 non-null object\n",
      "dtypes: float64(4), int64(8), object(6)\n",
      "memory usage: 1.0+ MB\n"
     ]
    }
   ],
   "source": [
    "df.info()"
   ]
  },
  {
   "cell_type": "code",
   "execution_count": 74,
   "id": "88fd0afa",
   "metadata": {},
   "outputs": [
    {
     "data": {
      "text/plain": [
       "(7608, 18)"
      ]
     },
     "execution_count": 74,
     "metadata": {},
     "output_type": "execute_result"
    }
   ],
   "source": [
    "df.shape"
   ]
  },
  {
   "cell_type": "code",
   "execution_count": 75,
   "id": "b18be65a",
   "metadata": {},
   "outputs": [
    {
     "data": {
      "text/plain": [
       "id                                   0\n",
       "name                                 0\n",
       "host_id                              0\n",
       "host_name                            0\n",
       "neighbourhood_group               7608\n",
       "neighbourhood                        0\n",
       "latitude                             0\n",
       "longitude                            0\n",
       "room_type                            0\n",
       "price                                0\n",
       "minimum_nights                       0\n",
       "number_of_reviews                    0\n",
       "last_review                        710\n",
       "reviews_per_month                  710\n",
       "calculated_host_listings_count       0\n",
       "availability_365                     0\n",
       "number_of_reviews_ltm                0\n",
       "license                           1134\n",
       "dtype: int64"
      ]
     },
     "execution_count": 75,
     "metadata": {},
     "output_type": "execute_result"
    }
   ],
   "source": [
    "df.isnull().sum()"
   ]
  },
  {
   "cell_type": "code",
   "execution_count": 76,
   "id": "c03b3782",
   "metadata": {},
   "outputs": [
    {
     "data": {
      "text/plain": [
       "<AxesSubplot:>"
      ]
     },
     "execution_count": 76,
     "metadata": {},
     "output_type": "execute_result"
    },
    {
     "data": {
      "image/png": "[encoded data removed]",
      "text/plain": [
       "<Figure size 1080x360 with 1 Axes>"
      ]
     },
     "metadata": {
      "needs_background": "light"
     },
     "output_type": "display_data"
    }
   ],
   "source": [
    "\n",
    "df.isnull().sum().plot.bar(figsize=(15,5))"
   ]
  },
  {
   "cell_type": "markdown",
   "id": "adc9174b",
   "metadata": {},
   "source": [
    "# data cleaning to remove missing value or fill them.¶"
   ]
  },
  {
   "cell_type": "code",
   "execution_count": 77,
   "id": "c8f93f35",
   "metadata": {},
   "outputs": [],
   "source": [
    "df_final= df.fillna(0)  # Fills missing values with 0\n"
   ]
  },
  {
   "cell_type": "code",
   "execution_count": 78,
   "id": "83362c80",
   "metadata": {},
   "outputs": [
    {
     "name": "stdout",
     "output_type": "stream",
     "text": [
      "7608\n",
      "7608\n"
     ]
    }
   ],
   "source": [
    "print(len(df))\n",
    "print(len(df_final))"
   ]
  },
  {
   "cell_type": "code",
   "execution_count": 79,
   "id": "9b09eaab",
   "metadata": {},
   "outputs": [
    {
     "data": {
      "text/html": [
       "<div>\n",
       "<style scoped>\n",
       "    .dataframe tbody tr th:only-of-type {\n",
       "        vertical-align: middle;\n",
       "    }\n",
       "\n",
       "    .dataframe tbody tr th {\n",
       "        vertical-align: top;\n",
       "    }\n",
       "\n",
       "    .dataframe thead th {\n",
       "        text-align: right;\n",
       "    }\n",
       "</style>\n",
       "<table border=\"1\" class=\"dataframe\">\n",
       "  <thead>\n",
       "    <tr style=\"text-align: right;\">\n",
       "      <th></th>\n",
       "      <th>id</th>\n",
       "      <th>name</th>\n",
       "      <th>host_id</th>\n",
       "      <th>host_name</th>\n",
       "      <th>neighbourhood_group</th>\n",
       "      <th>neighbourhood</th>\n",
       "      <th>latitude</th>\n",
       "      <th>longitude</th>\n",
       "      <th>room_type</th>\n",
       "      <th>price</th>\n",
       "      <th>minimum_nights</th>\n",
       "      <th>number_of_reviews</th>\n",
       "      <th>last_review</th>\n",
       "      <th>reviews_per_month</th>\n",
       "      <th>calculated_host_listings_count</th>\n",
       "      <th>availability_365</th>\n",
       "      <th>number_of_reviews_ltm</th>\n",
       "      <th>license</th>\n",
       "    </tr>\n",
       "  </thead>\n",
       "  <tbody>\n",
       "    <tr>\n",
       "      <th>0</th>\n",
       "      <td>2818</td>\n",
       "      <td>Condo in Amsterdam · ★4.89 · 1 bedroom · 2 bed...</td>\n",
       "      <td>3159</td>\n",
       "      <td>Daniel</td>\n",
       "      <td>0.0</td>\n",
       "      <td>Oostelijk Havengebied - Indische Buurt</td>\n",
       "      <td>52.36435</td>\n",
       "      <td>4.94358</td>\n",
       "      <td>Private room</td>\n",
       "      <td>69</td>\n",
       "      <td>3</td>\n",
       "      <td>336</td>\n",
       "      <td>2023-05-31</td>\n",
       "      <td>1.95</td>\n",
       "      <td>1</td>\n",
       "      <td>7</td>\n",
       "      <td>40</td>\n",
       "      <td>0</td>\n",
       "    </tr>\n",
       "    <tr>\n",
       "      <th>1</th>\n",
       "      <td>20168</td>\n",
       "      <td>Townhouse in Amsterdam · ★4.44 · 1 bedroom · 1...</td>\n",
       "      <td>59484</td>\n",
       "      <td>Alexander</td>\n",
       "      <td>0.0</td>\n",
       "      <td>Centrum-Oost</td>\n",
       "      <td>52.36407</td>\n",
       "      <td>4.89393</td>\n",
       "      <td>Private room</td>\n",
       "      <td>106</td>\n",
       "      <td>1</td>\n",
       "      <td>339</td>\n",
       "      <td>2020-04-09</td>\n",
       "      <td>2.10</td>\n",
       "      <td>2</td>\n",
       "      <td>0</td>\n",
       "      <td>0</td>\n",
       "      <td>0</td>\n",
       "    </tr>\n",
       "    <tr>\n",
       "      <th>2</th>\n",
       "      <td>213371</td>\n",
       "      <td>Rental unit in Amsterdam · ★4.86 · 3 bedrooms ...</td>\n",
       "      <td>1100324</td>\n",
       "      <td>Hendrik</td>\n",
       "      <td>0.0</td>\n",
       "      <td>De Pijp - Rivierenbuurt</td>\n",
       "      <td>52.35150</td>\n",
       "      <td>4.89656</td>\n",
       "      <td>Entire home/apt</td>\n",
       "      <td>270</td>\n",
       "      <td>4</td>\n",
       "      <td>23</td>\n",
       "      <td>2023-01-08</td>\n",
       "      <td>0.16</td>\n",
       "      <td>1</td>\n",
       "      <td>2</td>\n",
       "      <td>1</td>\n",
       "      <td>0363 F88F 4B47 6E9B 225B</td>\n",
       "    </tr>\n",
       "    <tr>\n",
       "      <th>3</th>\n",
       "      <td>155548</td>\n",
       "      <td>Rental unit in Amsterdam · ★4.76 · 1 bedroom ·...</td>\n",
       "      <td>748161</td>\n",
       "      <td>Maria</td>\n",
       "      <td>0.0</td>\n",
       "      <td>Oud-Oost</td>\n",
       "      <td>52.36420</td>\n",
       "      <td>4.92829</td>\n",
       "      <td>Entire home/apt</td>\n",
       "      <td>200</td>\n",
       "      <td>3</td>\n",
       "      <td>21</td>\n",
       "      <td>2019-08-20</td>\n",
       "      <td>0.15</td>\n",
       "      <td>1</td>\n",
       "      <td>0</td>\n",
       "      <td>0</td>\n",
       "      <td>0363 A562 4D7E 4A91 60DF</td>\n",
       "    </tr>\n",
       "    <tr>\n",
       "      <th>4</th>\n",
       "      <td>27886</td>\n",
       "      <td>Houseboat in Amsterdam · ★4.94 · 1 bedroom · 1...</td>\n",
       "      <td>97647</td>\n",
       "      <td>Flip</td>\n",
       "      <td>0.0</td>\n",
       "      <td>Centrum-West</td>\n",
       "      <td>52.38761</td>\n",
       "      <td>4.89188</td>\n",
       "      <td>Private room</td>\n",
       "      <td>137</td>\n",
       "      <td>3</td>\n",
       "      <td>251</td>\n",
       "      <td>2023-05-01</td>\n",
       "      <td>1.81</td>\n",
       "      <td>1</td>\n",
       "      <td>0</td>\n",
       "      <td>20</td>\n",
       "      <td>0</td>\n",
       "    </tr>\n",
       "  </tbody>\n",
       "</table>\n",
       "</div>"
      ],
      "text/plain": [
       "       id                                               name  host_id  \\\n",
       "0    2818  Condo in Amsterdam · ★4.89 · 1 bedroom · 2 bed...     3159   \n",
       "1   20168  Townhouse in Amsterdam · ★4.44 · 1 bedroom · 1...    59484   \n",
       "2  213371  Rental unit in Amsterdam · ★4.86 · 3 bedrooms ...  1100324   \n",
       "3  155548  Rental unit in Amsterdam · ★4.76 · 1 bedroom ·...   748161   \n",
       "4   27886  Houseboat in Amsterdam · ★4.94 · 1 bedroom · 1...    97647   \n",
       "\n",
       "   host_name  neighbourhood_group                           neighbourhood  \\\n",
       "0     Daniel                  0.0  Oostelijk Havengebied - Indische Buurt   \n",
       "1  Alexander                  0.0                            Centrum-Oost   \n",
       "2    Hendrik                  0.0                 De Pijp - Rivierenbuurt   \n",
       "3      Maria                  0.0                                Oud-Oost   \n",
       "4       Flip                  0.0                            Centrum-West   \n",
       "\n",
       "   latitude  longitude        room_type  price  minimum_nights  \\\n",
       "0  52.36435    4.94358     Private room     69               3   \n",
       "1  52.36407    4.89393     Private room    106               1   \n",
       "2  52.35150    4.89656  Entire home/apt    270               4   \n",
       "3  52.36420    4.92829  Entire home/apt    200               3   \n",
       "4  52.38761    4.89188     Private room    137               3   \n",
       "\n",
       "   number_of_reviews last_review  reviews_per_month  \\\n",
       "0                336  2023-05-31               1.95   \n",
       "1                339  2020-04-09               2.10   \n",
       "2                 23  2023-01-08               0.16   \n",
       "3                 21  2019-08-20               0.15   \n",
       "4                251  2023-05-01               1.81   \n",
       "\n",
       "   calculated_host_listings_count  availability_365  number_of_reviews_ltm  \\\n",
       "0                               1                 7                     40   \n",
       "1                               2                 0                      0   \n",
       "2                               1                 2                      1   \n",
       "3                               1                 0                      0   \n",
       "4                               1                 0                     20   \n",
       "\n",
       "                    license  \n",
       "0                         0  \n",
       "1                         0  \n",
       "2  0363 F88F 4B47 6E9B 225B  \n",
       "3  0363 A562 4D7E 4A91 60DF  \n",
       "4                         0  "
      ]
     },
     "execution_count": 79,
     "metadata": {},
     "output_type": "execute_result"
    }
   ],
   "source": [
    "df_final.head()"
   ]
  },
  {
   "cell_type": "code",
   "execution_count": 80,
   "id": "c6040db6",
   "metadata": {},
   "outputs": [
    {
     "data": {
      "text/plain": [
       "id                                0\n",
       "name                              0\n",
       "host_id                           0\n",
       "host_name                         0\n",
       "neighbourhood_group               0\n",
       "neighbourhood                     0\n",
       "latitude                          0\n",
       "longitude                         0\n",
       "room_type                         0\n",
       "price                             0\n",
       "minimum_nights                    0\n",
       "number_of_reviews                 0\n",
       "last_review                       0\n",
       "reviews_per_month                 0\n",
       "calculated_host_listings_count    0\n",
       "availability_365                  0\n",
       "number_of_reviews_ltm             0\n",
       "license                           0\n",
       "dtype: int64"
      ]
     },
     "execution_count": 80,
     "metadata": {},
     "output_type": "execute_result"
    }
   ],
   "source": [
    "df_final.isnull().sum()"
   ]
  },
  {
   "cell_type": "code",
   "execution_count": 81,
   "id": "a3f6fb49",
   "metadata": {},
   "outputs": [],
   "source": [
    "#df_final.select_dtypes(include=['object']).columns"
   ]
  },
  {
   "cell_type": "markdown",
   "id": "0028bfdc",
   "metadata": {},
   "source": [
    "# Data Analysis & Visualization (EDA )"
   ]
  },
  {
   "cell_type": "code",
   "execution_count": 82,
   "id": "2db1cba1",
   "metadata": {},
   "outputs": [
    {
     "data": {
      "text/plain": [
       "251.06558885383808"
      ]
     },
     "execution_count": 82,
     "metadata": {},
     "output_type": "execute_result"
    }
   ],
   "source": [
    "df_final['price'].mean()"
   ]
  },
  {
   "cell_type": "code",
   "execution_count": 83,
   "id": "ad678955",
   "metadata": {},
   "outputs": [
    {
     "data": {
      "text/plain": [
       "12000"
      ]
     },
     "execution_count": 83,
     "metadata": {},
     "output_type": "execute_result"
    }
   ],
   "source": [
    "df_final['price'].max()"
   ]
  },
  {
   "cell_type": "code",
   "execution_count": 84,
   "id": "4505a985",
   "metadata": {},
   "outputs": [
    {
     "data": {
      "text/plain": [
       "0"
      ]
     },
     "execution_count": 84,
     "metadata": {},
     "output_type": "execute_result"
    }
   ],
   "source": [
    "df_final['price'].min()"
   ]
  },
  {
   "cell_type": "code",
   "execution_count": 85,
   "id": "08ce24e9",
   "metadata": {},
   "outputs": [
    {
     "data": {
      "text/plain": [
       "array(['Private room', 'Entire home/apt', 'Hotel room', 'Shared room'],\n",
       "      dtype=object)"
      ]
     },
     "execution_count": 85,
     "metadata": {},
     "output_type": "execute_result"
    }
   ],
   "source": [
    "df_final['room_type'].unique()"
   ]
  },
  {
   "cell_type": "code",
   "execution_count": 86,
   "id": "a2d3478d",
   "metadata": {},
   "outputs": [
    {
     "data": {
      "text/plain": [
       "Entire home/apt    5783\n",
       "Private room       1726\n",
       "Hotel room           56\n",
       "Shared room          43\n",
       "Name: room_type, dtype: int64"
      ]
     },
     "execution_count": 86,
     "metadata": {},
     "output_type": "execute_result"
    }
   ],
   "source": [
    "df_final['room_type'].value_counts()"
   ]
  },
  {
   "cell_type": "code",
   "execution_count": 87,
   "id": "badb0e61",
   "metadata": {},
   "outputs": [
    {
     "data": {
      "text/plain": [
       "id                                43\n",
       "name                              43\n",
       "host_id                           43\n",
       "host_name                         43\n",
       "neighbourhood_group               43\n",
       "neighbourhood                     43\n",
       "latitude                          43\n",
       "longitude                         43\n",
       "room_type                         43\n",
       "price                             43\n",
       "minimum_nights                    43\n",
       "number_of_reviews                 43\n",
       "last_review                       43\n",
       "reviews_per_month                 43\n",
       "calculated_host_listings_count    43\n",
       "availability_365                  43\n",
       "number_of_reviews_ltm             43\n",
       "license                           43\n",
       "dtype: int64"
      ]
     },
     "execution_count": 87,
     "metadata": {},
     "output_type": "execute_result"
    }
   ],
   "source": [
    "df_final[df_final['room_type']=='Shared room'].count()"
   ]
  },
  {
   "cell_type": "code",
   "execution_count": 88,
   "id": "3dd96bac",
   "metadata": {},
   "outputs": [
    {
     "data": {
      "image/png": "[encoded data removed]",
      "text/plain": [
       "<Figure size 720x432 with 1 Axes>"
      ]
     },
     "metadata": {
      "needs_background": "light"
     },
     "output_type": "display_data"
    }
   ],
   "source": [
    "plt.figure(figsize=(10, 6))\n",
    "df_final['room_type'].value_counts().plot(kind='bar',color='orange')\n",
    "plt.xlabel('room_type')\n",
    "plt.ylabel('Count')\n",
    "plt.title('Bar Chart for room_type ')\n",
    "plt.show()"
   ]
  },
  {
   "cell_type": "code",
   "execution_count": 91,
   "id": "3ecc5329",
   "metadata": {},
   "outputs": [
    {
     "data": {
      "text/html": [
       "<div>\n",
       "<style scoped>\n",
       "    .dataframe tbody tr th:only-of-type {\n",
       "        vertical-align: middle;\n",
       "    }\n",
       "\n",
       "    .dataframe tbody tr th {\n",
       "        vertical-align: top;\n",
       "    }\n",
       "\n",
       "    .dataframe thead th {\n",
       "        text-align: right;\n",
       "    }\n",
       "</style>\n",
       "<table border=\"1\" class=\"dataframe\">\n",
       "  <thead>\n",
       "    <tr style=\"text-align: right;\">\n",
       "      <th></th>\n",
       "      <th>room_type</th>\n",
       "      <th>price</th>\n",
       "    </tr>\n",
       "  </thead>\n",
       "  <tbody>\n",
       "    <tr>\n",
       "      <th>0</th>\n",
       "      <td>Entire home/apt</td>\n",
       "      <td>1575308</td>\n",
       "    </tr>\n",
       "    <tr>\n",
       "      <th>1</th>\n",
       "      <td>Hotel room</td>\n",
       "      <td>13448</td>\n",
       "    </tr>\n",
       "    <tr>\n",
       "      <th>2</th>\n",
       "      <td>Private room</td>\n",
       "      <td>314399</td>\n",
       "    </tr>\n",
       "    <tr>\n",
       "      <th>3</th>\n",
       "      <td>Shared room</td>\n",
       "      <td>6952</td>\n",
       "    </tr>\n",
       "  </tbody>\n",
       "</table>\n",
       "</div>"
      ],
      "text/plain": [
       "         room_type    price\n",
       "0  Entire home/apt  1575308\n",
       "1       Hotel room    13448\n",
       "2     Private room   314399\n",
       "3      Shared room     6952"
      ]
     },
     "execution_count": 91,
     "metadata": {},
     "output_type": "execute_result"
    }
   ],
   "source": [
    "df_finals=df_final.groupby(\"room_type\")[\"price\"].sum().reset_index()\n",
    "df_finals.head()"
   ]
  },
  {
   "cell_type": "code",
   "execution_count": 92,
   "id": "d6b1a011",
   "metadata": {},
   "outputs": [
    {
     "data": {
      "image/png": "[encoded data removed]",
      "text/plain": [
       "<Figure size 720x504 with 1 Axes>"
      ]
     },
     "metadata": {
      "needs_background": "light"
     },
     "output_type": "display_data"
    }
   ],
   "source": [
    "df_finals.plot.bar(x='room_type', y='price',figsize=(10,7),color='black',edgecolor='gray',linewidth=2)\n",
    "plt.ylabel('total_price')\n",
    "plt.title('room_type with price')\n",
    "plt.show()"
   ]
  },
  {
   "cell_type": "code",
   "execution_count": 93,
   "id": "7bedac5f",
   "metadata": {},
   "outputs": [
    {
     "data": {
      "text/html": [
       "<div>\n",
       "<style scoped>\n",
       "    .dataframe tbody tr th:only-of-type {\n",
       "        vertical-align: middle;\n",
       "    }\n",
       "\n",
       "    .dataframe tbody tr th {\n",
       "        vertical-align: top;\n",
       "    }\n",
       "\n",
       "    .dataframe thead th {\n",
       "        text-align: right;\n",
       "    }\n",
       "</style>\n",
       "<table border=\"1\" class=\"dataframe\">\n",
       "  <thead>\n",
       "    <tr style=\"text-align: right;\">\n",
       "      <th></th>\n",
       "      <th>minimum_nights</th>\n",
       "      <th>price</th>\n",
       "    </tr>\n",
       "  </thead>\n",
       "  <tbody>\n",
       "    <tr>\n",
       "      <th>0</th>\n",
       "      <td>1</td>\n",
       "      <td>344348</td>\n",
       "    </tr>\n",
       "    <tr>\n",
       "      <th>1</th>\n",
       "      <td>2</td>\n",
       "      <td>524317</td>\n",
       "    </tr>\n",
       "    <tr>\n",
       "      <th>2</th>\n",
       "      <td>3</td>\n",
       "      <td>517203</td>\n",
       "    </tr>\n",
       "    <tr>\n",
       "      <th>3</th>\n",
       "      <td>4</td>\n",
       "      <td>201234</td>\n",
       "    </tr>\n",
       "    <tr>\n",
       "      <th>4</th>\n",
       "      <td>5</td>\n",
       "      <td>138328</td>\n",
       "    </tr>\n",
       "  </tbody>\n",
       "</table>\n",
       "</div>"
      ],
      "text/plain": [
       "   minimum_nights   price\n",
       "0               1  344348\n",
       "1               2  524317\n",
       "2               3  517203\n",
       "3               4  201234\n",
       "4               5  138328"
      ]
     },
     "execution_count": 93,
     "metadata": {},
     "output_type": "execute_result"
    }
   ],
   "source": [
    "df_finals=df_final.groupby(\"minimum_nights\")[\"price\"].sum().reset_index()\n",
    "df_finals.head()"
   ]
  },
  {
   "cell_type": "code",
   "execution_count": 94,
   "id": "25427ed8",
   "metadata": {},
   "outputs": [
    {
     "data": {
      "image/png": "[encoded data removed]",
      "text/plain": [
       "<Figure size 1224x720 with 1 Axes>"
      ]
     },
     "metadata": {
      "needs_background": "light"
     },
     "output_type": "display_data"
    }
   ],
   "source": [
    "\n",
    "plt.figure(figsize=(17,10))\n",
    "sns.barplot(x = 'minimum_nights',y = 'price',data =df_finals)\n",
    "plt.show()"
   ]
  },
  {
   "cell_type": "code",
   "execution_count": 95,
   "id": "37f98906",
   "metadata": {},
   "outputs": [
    {
     "name": "stderr",
     "output_type": "stream",
     "text": [
      "C:\\Users\\20101\\.conda\\envs\\tenfl\\lib\\site-packages\\seaborn\\distributions.py:2619: FutureWarning: `distplot` is a deprecated function and will be removed in a future version. Please adapt your code to use either `displot` (a figure-level function with similar flexibility) or `histplot` (an axes-level function for histograms).\n",
      "  warnings.warn(msg, FutureWarning)\n"
     ]
    },
    {
     "data": {
      "text/plain": [
       "<AxesSubplot:xlabel='price', ylabel='Density'>"
      ]
     },
     "execution_count": 95,
     "metadata": {},
     "output_type": "execute_result"
    },
    {
     "data": {
      "image/png": "[encoded data removed]",
      "text/plain": [
       "<Figure size 432x288 with 1 Axes>"
      ]
     },
     "metadata": {
      "needs_background": "light"
     },
     "output_type": "display_data"
    }
   ],
   "source": [
    "sns.distplot(df_final['price'])"
   ]
  },
  {
   "cell_type": "code",
   "execution_count": 96,
   "id": "b121ef84",
   "metadata": {},
   "outputs": [
    {
     "data": {
      "text/html": [
       "<div>\n",
       "<style scoped>\n",
       "    .dataframe tbody tr th:only-of-type {\n",
       "        vertical-align: middle;\n",
       "    }\n",
       "\n",
       "    .dataframe tbody tr th {\n",
       "        vertical-align: top;\n",
       "    }\n",
       "\n",
       "    .dataframe thead th {\n",
       "        text-align: right;\n",
       "    }\n",
       "</style>\n",
       "<table border=\"1\" class=\"dataframe\">\n",
       "  <thead>\n",
       "    <tr style=\"text-align: right;\">\n",
       "      <th></th>\n",
       "      <th>count</th>\n",
       "      <th>mean</th>\n",
       "      <th>std</th>\n",
       "      <th>min</th>\n",
       "      <th>25%</th>\n",
       "      <th>50%</th>\n",
       "      <th>75%</th>\n",
       "      <th>max</th>\n",
       "    </tr>\n",
       "    <tr>\n",
       "      <th>number_of_reviews</th>\n",
       "      <th></th>\n",
       "      <th></th>\n",
       "      <th></th>\n",
       "      <th></th>\n",
       "      <th></th>\n",
       "      <th></th>\n",
       "      <th></th>\n",
       "      <th></th>\n",
       "    </tr>\n",
       "  </thead>\n",
       "  <tbody>\n",
       "    <tr>\n",
       "      <th>0</th>\n",
       "      <td>710.0</td>\n",
       "      <td>0.000000</td>\n",
       "      <td>0.000000</td>\n",
       "      <td>0.00</td>\n",
       "      <td>0.0000</td>\n",
       "      <td>0.000</td>\n",
       "      <td>0.0000</td>\n",
       "      <td>0.00</td>\n",
       "    </tr>\n",
       "    <tr>\n",
       "      <th>1</th>\n",
       "      <td>451.0</td>\n",
       "      <td>0.443681</td>\n",
       "      <td>0.395661</td>\n",
       "      <td>0.01</td>\n",
       "      <td>0.1000</td>\n",
       "      <td>0.250</td>\n",
       "      <td>1.0000</td>\n",
       "      <td>1.00</td>\n",
       "    </tr>\n",
       "    <tr>\n",
       "      <th>2</th>\n",
       "      <td>416.0</td>\n",
       "      <td>0.581707</td>\n",
       "      <td>0.629379</td>\n",
       "      <td>0.02</td>\n",
       "      <td>0.1500</td>\n",
       "      <td>0.260</td>\n",
       "      <td>0.9125</td>\n",
       "      <td>2.00</td>\n",
       "    </tr>\n",
       "    <tr>\n",
       "      <th>3</th>\n",
       "      <td>385.0</td>\n",
       "      <td>0.716701</td>\n",
       "      <td>0.820865</td>\n",
       "      <td>0.03</td>\n",
       "      <td>0.2200</td>\n",
       "      <td>0.340</td>\n",
       "      <td>0.9500</td>\n",
       "      <td>3.00</td>\n",
       "    </tr>\n",
       "    <tr>\n",
       "      <th>4</th>\n",
       "      <td>306.0</td>\n",
       "      <td>0.655000</td>\n",
       "      <td>0.737032</td>\n",
       "      <td>0.04</td>\n",
       "      <td>0.1800</td>\n",
       "      <td>0.400</td>\n",
       "      <td>0.7700</td>\n",
       "      <td>4.00</td>\n",
       "    </tr>\n",
       "    <tr>\n",
       "      <th>5</th>\n",
       "      <td>312.0</td>\n",
       "      <td>0.598173</td>\n",
       "      <td>0.711268</td>\n",
       "      <td>0.05</td>\n",
       "      <td>0.1275</td>\n",
       "      <td>0.410</td>\n",
       "      <td>0.7100</td>\n",
       "      <td>5.00</td>\n",
       "    </tr>\n",
       "    <tr>\n",
       "      <th>6</th>\n",
       "      <td>293.0</td>\n",
       "      <td>0.740375</td>\n",
       "      <td>0.982736</td>\n",
       "      <td>0.05</td>\n",
       "      <td>0.1400</td>\n",
       "      <td>0.490</td>\n",
       "      <td>0.7800</td>\n",
       "      <td>6.00</td>\n",
       "    </tr>\n",
       "    <tr>\n",
       "      <th>7</th>\n",
       "      <td>267.0</td>\n",
       "      <td>0.715655</td>\n",
       "      <td>0.959529</td>\n",
       "      <td>0.05</td>\n",
       "      <td>0.1500</td>\n",
       "      <td>0.540</td>\n",
       "      <td>0.7550</td>\n",
       "      <td>7.00</td>\n",
       "    </tr>\n",
       "    <tr>\n",
       "      <th>8</th>\n",
       "      <td>188.0</td>\n",
       "      <td>0.653191</td>\n",
       "      <td>0.766487</td>\n",
       "      <td>0.07</td>\n",
       "      <td>0.1700</td>\n",
       "      <td>0.465</td>\n",
       "      <td>0.7725</td>\n",
       "      <td>4.62</td>\n",
       "    </tr>\n",
       "    <tr>\n",
       "      <th>9</th>\n",
       "      <td>174.0</td>\n",
       "      <td>0.694253</td>\n",
       "      <td>0.789840</td>\n",
       "      <td>0.08</td>\n",
       "      <td>0.1700</td>\n",
       "      <td>0.490</td>\n",
       "      <td>0.8700</td>\n",
       "      <td>5.19</td>\n",
       "    </tr>\n",
       "    <tr>\n",
       "      <th>10</th>\n",
       "      <td>165.0</td>\n",
       "      <td>0.650545</td>\n",
       "      <td>0.747271</td>\n",
       "      <td>0.08</td>\n",
       "      <td>0.1700</td>\n",
       "      <td>0.430</td>\n",
       "      <td>0.9400</td>\n",
       "      <td>4.84</td>\n",
       "    </tr>\n",
       "    <tr>\n",
       "      <th>11</th>\n",
       "      <td>168.0</td>\n",
       "      <td>0.711548</td>\n",
       "      <td>1.010630</td>\n",
       "      <td>0.09</td>\n",
       "      <td>0.1800</td>\n",
       "      <td>0.295</td>\n",
       "      <td>0.9050</td>\n",
       "      <td>8.25</td>\n",
       "    </tr>\n",
       "    <tr>\n",
       "      <th>12</th>\n",
       "      <td>145.0</td>\n",
       "      <td>0.578828</td>\n",
       "      <td>0.827155</td>\n",
       "      <td>0.09</td>\n",
       "      <td>0.1800</td>\n",
       "      <td>0.260</td>\n",
       "      <td>0.6700</td>\n",
       "      <td>6.55</td>\n",
       "    </tr>\n",
       "    <tr>\n",
       "      <th>13</th>\n",
       "      <td>124.0</td>\n",
       "      <td>0.601452</td>\n",
       "      <td>0.865685</td>\n",
       "      <td>0.12</td>\n",
       "      <td>0.2000</td>\n",
       "      <td>0.280</td>\n",
       "      <td>0.7625</td>\n",
       "      <td>7.22</td>\n",
       "    </tr>\n",
       "    <tr>\n",
       "      <th>14</th>\n",
       "      <td>111.0</td>\n",
       "      <td>0.624595</td>\n",
       "      <td>0.701309</td>\n",
       "      <td>0.11</td>\n",
       "      <td>0.2300</td>\n",
       "      <td>0.300</td>\n",
       "      <td>0.9700</td>\n",
       "      <td>5.45</td>\n",
       "    </tr>\n",
       "    <tr>\n",
       "      <th>15</th>\n",
       "      <td>87.0</td>\n",
       "      <td>0.720230</td>\n",
       "      <td>0.860405</td>\n",
       "      <td>0.13</td>\n",
       "      <td>0.2400</td>\n",
       "      <td>0.330</td>\n",
       "      <td>0.8000</td>\n",
       "      <td>4.50</td>\n",
       "    </tr>\n",
       "    <tr>\n",
       "      <th>16</th>\n",
       "      <td>91.0</td>\n",
       "      <td>0.742527</td>\n",
       "      <td>1.359976</td>\n",
       "      <td>0.12</td>\n",
       "      <td>0.1950</td>\n",
       "      <td>0.290</td>\n",
       "      <td>0.7350</td>\n",
       "      <td>8.14</td>\n",
       "    </tr>\n",
       "    <tr>\n",
       "      <th>17</th>\n",
       "      <td>108.0</td>\n",
       "      <td>0.615926</td>\n",
       "      <td>0.906939</td>\n",
       "      <td>0.13</td>\n",
       "      <td>0.2375</td>\n",
       "      <td>0.295</td>\n",
       "      <td>0.5825</td>\n",
       "      <td>7.61</td>\n",
       "    </tr>\n",
       "    <tr>\n",
       "      <th>18</th>\n",
       "      <td>76.0</td>\n",
       "      <td>0.602105</td>\n",
       "      <td>1.056206</td>\n",
       "      <td>0.14</td>\n",
       "      <td>0.2200</td>\n",
       "      <td>0.285</td>\n",
       "      <td>0.4200</td>\n",
       "      <td>6.84</td>\n",
       "    </tr>\n",
       "    <tr>\n",
       "      <th>19</th>\n",
       "      <td>82.0</td>\n",
       "      <td>0.592683</td>\n",
       "      <td>0.984457</td>\n",
       "      <td>0.17</td>\n",
       "      <td>0.2300</td>\n",
       "      <td>0.310</td>\n",
       "      <td>0.4475</td>\n",
       "      <td>5.64</td>\n",
       "    </tr>\n",
       "  </tbody>\n",
       "</table>\n",
       "</div>"
      ],
      "text/plain": [
       "                   count      mean       std   min     25%    50%     75%  \\\n",
       "number_of_reviews                                                           \n",
       "0                  710.0  0.000000  0.000000  0.00  0.0000  0.000  0.0000   \n",
       "1                  451.0  0.443681  0.395661  0.01  0.1000  0.250  1.0000   \n",
       "2                  416.0  0.581707  0.629379  0.02  0.1500  0.260  0.9125   \n",
       "3                  385.0  0.716701  0.820865  0.03  0.2200  0.340  0.9500   \n",
       "4                  306.0  0.655000  0.737032  0.04  0.1800  0.400  0.7700   \n",
       "5                  312.0  0.598173  0.711268  0.05  0.1275  0.410  0.7100   \n",
       "6                  293.0  0.740375  0.982736  0.05  0.1400  0.490  0.7800   \n",
       "7                  267.0  0.715655  0.959529  0.05  0.1500  0.540  0.7550   \n",
       "8                  188.0  0.653191  0.766487  0.07  0.1700  0.465  0.7725   \n",
       "9                  174.0  0.694253  0.789840  0.08  0.1700  0.490  0.8700   \n",
       "10                 165.0  0.650545  0.747271  0.08  0.1700  0.430  0.9400   \n",
       "11                 168.0  0.711548  1.010630  0.09  0.1800  0.295  0.9050   \n",
       "12                 145.0  0.578828  0.827155  0.09  0.1800  0.260  0.6700   \n",
       "13                 124.0  0.601452  0.865685  0.12  0.2000  0.280  0.7625   \n",
       "14                 111.0  0.624595  0.701309  0.11  0.2300  0.300  0.9700   \n",
       "15                  87.0  0.720230  0.860405  0.13  0.2400  0.330  0.8000   \n",
       "16                  91.0  0.742527  1.359976  0.12  0.1950  0.290  0.7350   \n",
       "17                 108.0  0.615926  0.906939  0.13  0.2375  0.295  0.5825   \n",
       "18                  76.0  0.602105  1.056206  0.14  0.2200  0.285  0.4200   \n",
       "19                  82.0  0.592683  0.984457  0.17  0.2300  0.310  0.4475   \n",
       "\n",
       "                    max  \n",
       "number_of_reviews        \n",
       "0                  0.00  \n",
       "1                  1.00  \n",
       "2                  2.00  \n",
       "3                  3.00  \n",
       "4                  4.00  \n",
       "5                  5.00  \n",
       "6                  6.00  \n",
       "7                  7.00  \n",
       "8                  4.62  \n",
       "9                  5.19  \n",
       "10                 4.84  \n",
       "11                 8.25  \n",
       "12                 6.55  \n",
       "13                 7.22  \n",
       "14                 5.45  \n",
       "15                 4.50  \n",
       "16                 8.14  \n",
       "17                 7.61  \n",
       "18                 6.84  \n",
       "19                 5.64  "
      ]
     },
     "execution_count": 96,
     "metadata": {},
     "output_type": "execute_result"
    }
   ],
   "source": [
    "df_finals_rev=df_final.groupby(\"number_of_reviews\")[\"reviews_per_month\"].describe()\n",
    "df_finals_rev.head(20)"
   ]
  },
  {
   "cell_type": "code",
   "execution_count": 97,
   "id": "692c9a21",
   "metadata": {},
   "outputs": [
    {
     "data": {
      "image/png": "[encoded data removed]",
      "text/plain": [
       "<Figure size 432x288 with 1 Axes>"
      ]
     },
     "metadata": {
      "needs_background": "light"
     },
     "output_type": "display_data"
    }
   ],
   "source": [
    "figsize=(10,5)\n",
    "plt.hist(['number_of_reviews','reviews_per_month'], bins=4, label=['number_of_reviews', 'reviews_per_month'])\n",
    "plt.title('number_of_reviews and reviews_per_month')\n",
    "plt.xlabel('Feature Values')\n",
    "plt.ylabel('Frequency')\n",
    "plt.show()"
   ]
  },
  {
   "cell_type": "code",
   "execution_count": 98,
   "id": "ba7051bc",
   "metadata": {},
   "outputs": [],
   "source": [
    "feature_df=['latitude','longitude']"
   ]
  },
  {
   "cell_type": "code",
   "execution_count": 99,
   "id": "cc89faba",
   "metadata": {},
   "outputs": [
    {
     "data": {
      "image/png": "[encoded data removed]",
      "text/plain": [
       "<Figure size 432x288 with 2 Axes>"
      ]
     },
     "metadata": {
      "needs_background": "light"
     },
     "output_type": "display_data"
    }
   ],
   "source": [
    "df_final[feature_df].plot(kind='density',subplots=True,layout=(1,2),sharex=False)\n",
    "plt.show()"
   ]
  },
  {
   "cell_type": "code",
   "execution_count": 100,
   "id": "10061f38",
   "metadata": {},
   "outputs": [],
   "source": [
    "count=(df_final['calculated_host_listings_count'].value_counts())"
   ]
  },
  {
   "cell_type": "code",
   "execution_count": 101,
   "id": "68977759",
   "metadata": {},
   "outputs": [
    {
     "data": {
      "text/plain": [
       "1     6064\n",
       "2      668\n",
       "3      234\n",
       "4      108\n",
       "6      102\n",
       "5       85\n",
       "8       64\n",
       "7       63\n",
       "9       63\n",
       "14      28\n",
       "12      24\n",
       "22      22\n",
       "21      21\n",
       "18      18\n",
       "17      17\n",
       "16      16\n",
       "11      11\n",
       "Name: calculated_host_listings_count, dtype: int64"
      ]
     },
     "execution_count": 101,
     "metadata": {},
     "output_type": "execute_result"
    }
   ],
   "source": [
    "count"
   ]
  },
  {
   "cell_type": "code",
   "execution_count": 102,
   "id": "1034d3ad",
   "metadata": {},
   "outputs": [
    {
     "data": {
      "text/plain": [
       "[1, 2, 3, 4, 6, 5, 8, 7, 9, 14, 12, 22, 21, 18, 17, 16, 11]"
      ]
     },
     "execution_count": 102,
     "metadata": {},
     "output_type": "execute_result"
    }
   ],
   "source": [
    "count.index.values.tolist()"
   ]
  },
  {
   "cell_type": "code",
   "execution_count": 68,
   "id": "4fdfbf6b",
   "metadata": {},
   "outputs": [
    {
     "data": {
      "image/png": "[encoded data removed]",
      "text/plain": [
       "<Figure size 2160x2880 with 1 Axes>"
      ]
     },
     "metadata": {},
     "output_type": "display_data"
    }
   ],
   "source": [
    "plt.figure(figsize=(30,40))\n",
    "plt.pie(count,labels=count.index.values.tolist())\n",
    "plt.show()"
   ]
  },
  {
   "cell_type": "code",
   "execution_count": null,
   "id": "b3763111",
   "metadata": {},
   "outputs": [],
   "source": []
  }
 ],
 "metadata": {
  "kernelspec": {
   "display_name": "Python 3",
   "language": "python",
   "name": "python3"
  },
  "language_info": {
   "codemirror_mode": {
    "name": "ipython",
    "version": 3
   },
   "file_extension": ".py",
   "mimetype": "text/x-python",
   "name": "python",
   "nbconvert_exporter": "python",
   "pygments_lexer": "ipython3",
   "version": "3.6.15"
  }
 },
 "nbformat": 4,
 "nbformat_minor": 5
}
